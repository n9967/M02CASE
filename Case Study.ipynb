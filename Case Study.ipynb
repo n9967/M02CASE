{
 "cells": [
  {
   "cell_type": "code",
   "execution_count": 1,
   "id": "b49b382b",
   "metadata": {},
   "outputs": [
    {
     "name": "stdout",
     "output_type": "stream",
     "text": [
      "Enter students lastname or enter ZZZ to end: H\n",
      "Enter Student First Name: D\n",
      "Enter Student GPA: 3.249\n",
      "\n",
      "Enter Student Last Name: ZZZ\n"
     ]
    }
   ],
   "source": [
    "#Nooreddin Hellalat\n",
    "#Main case study\n",
    "#App accepts student names and GPAs and test if the student qualifies for either the Dean's List or the Honor Roll.\n",
    "lastname = input(\"Enter students lastname or enter ZZZ to end: \")\n",
    "while lastname != \"ZZZ\":\n",
    "    \n",
    "    firstname = input(\"Enter Student First Name: \")\n",
    "    gpa = float(input(\"Enter Student GPA: \"))\n",
    "    if gpa >= 3.5:\n",
    "        print(\"{} {} has made the Dean's List.\".format(firstname, lastname))\n",
    "    else:\n",
    "        if gpa >= 3.25:\n",
    "            print(\"{} {} has made the Honor Roll.\".format(firstname, lastname)) \n",
    "    lastname = input(\"\\nEnter Student Last Name: \")"
   ]
  },
  {
   "cell_type": "code",
   "execution_count": null,
   "id": "130de56a",
   "metadata": {},
   "outputs": [],
   "source": []
  },
  {
   "cell_type": "code",
   "execution_count": null,
   "id": "cf456177",
   "metadata": {},
   "outputs": [],
   "source": []
  }
 ],
 "metadata": {
  "kernelspec": {
   "display_name": "Python 3 (ipykernel)",
   "language": "python",
   "name": "python3"
  },
  "language_info": {
   "codemirror_mode": {
    "name": "ipython",
    "version": 3
   },
   "file_extension": ".py",
   "mimetype": "text/x-python",
   "name": "python",
   "nbconvert_exporter": "python",
   "pygments_lexer": "ipython3",
   "version": "3.11.4"
  }
 },
 "nbformat": 4,
 "nbformat_minor": 5
}
